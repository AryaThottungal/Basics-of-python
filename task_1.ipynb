{
 "cells": [
  {
   "cell_type": "code",
   "execution_count": 7,
   "id": "fd3641a1-8803-45ce-b35e-c30ffbdc94da",
   "metadata": {},
   "outputs": [
    {
     "name": "stdout",
     "output_type": "stream",
     "text": [
      "updated list: [10, 6, 8, 10, 6]\n"
     ]
    }
   ],
   "source": [
    "#creating my list\n",
    "my_list = [2,4,6,8,10]\n",
    "\n",
    "#adding an element into the list\n",
    "my_list.append(6)\n",
    "\n",
    "#removing an element from the list\n",
    "my_list.remove(4)\n",
    "\n",
    "#modifying an element in the list\n",
    "my_list[0] = 10\n",
    "\n",
    "print(\"updated list:\",my_list)"
   ]
  },
  {
   "cell_type": "code",
   "execution_count": 6,
   "id": "f0f98357-7cdd-41a6-8fed-d33c0c2c9c45",
   "metadata": {},
   "outputs": [
    {
     "name": "stdout",
     "output_type": "stream",
     "text": [
      "updated dictionary: {'name': 'jack', 'city': 'kerala', 'gender': 'male'}\n"
     ]
    }
   ],
   "source": [
    "#creating a dictionary\n",
    "my_dict = {'name':'jack','age':28,'city':'nepal'}\n",
    "\n",
    "#adding\n",
    "my_dict['gender'] = 'male'\n",
    "\n",
    "#removing\n",
    "del my_dict['age']\n",
    "\n",
    "#modify\n",
    "my_dict['city'] = 'kerala'\n",
    "\n",
    "print(\"updated dictionary:\",my_dict)"
   ]
  },
  {
   "cell_type": "code",
   "execution_count": 5,
   "id": "5a5eb4bf-6dab-41f0-ab83-2d9b53ba892d",
   "metadata": {},
   "outputs": [
    {
     "name": "stdout",
     "output_type": "stream",
     "text": [
      "updated set: {2, 8, 10, 12, 14}\n"
     ]
    }
   ],
   "source": [
    "#creating a set\n",
    "my_set = {2,4,6,8,10}\n",
    "\n",
    "#adding\n",
    "my_set.add(12)\n",
    "\n",
    "#removing\n",
    "my_set.remove(6)\n",
    "\n",
    "#modify\n",
    "my_set.discard(4)\n",
    "my_set.add(14)\n",
    "\n",
    "print(\"updated set:\",my_set)"
   ]
  }
 ],
 "metadata": {
  "kernelspec": {
   "display_name": "Python 3 (ipykernel)",
   "language": "python",
   "name": "python3"
  },
  "language_info": {
   "codemirror_mode": {
    "name": "ipython",
    "version": 3
   },
   "file_extension": ".py",
   "mimetype": "text/x-python",
   "name": "python",
   "nbconvert_exporter": "python",
   "pygments_lexer": "ipython3",
   "version": "3.12.3"
  }
 },
 "nbformat": 4,
 "nbformat_minor": 5
}
